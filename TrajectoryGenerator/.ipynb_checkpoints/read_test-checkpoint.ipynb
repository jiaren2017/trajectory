{
 "cells": [
  {
   "cell_type": "code",
   "execution_count": 40,
   "metadata": {},
   "outputs": [],
   "source": [
    "import numpy as np\n",
    "import h5py\n",
    "import pandas as pd\n",
    "\n",
    "\n",
    "def read_parameter(group, sub):\n",
    "\n",
    "    sub_group = group.get(sub)   \n",
    "    position = np.array(sub_group.get('Positions'))\n",
    "    velocity = np.array(sub_group.get('Velocity'))\n",
    "    accerlation = np.array(sub_group.get('Acceleration'))\n",
    "    \n",
    "    return accerlation, position, velocity\n",
    "\n",
    "def read_csv(Filename):\n",
    "    data = pd.read_csv(Filename)\n",
    "    print(data)\n",
    "\n",
    "\n",
    "def read_hdf5_auto(Filename):\n",
    "    file = h5py.File(Filename)\n",
    "    main_key = (list(file)[0])                  # sample_run\n",
    "    group = file.get(main_key)                  # main group\n",
    "  \n",
    "    print('Filename is: \\n', Filename)\n",
    "    print('main_key: \\n', (list(file)[0]))\n",
    "    print('list(file.get(main_key)): \\n', list(file.get(main_key)))\n",
    "    \n",
    "    for sub in list(file.get(main_key)):        # ['1', '2',...]\n",
    "        accerlation, position, velocity = read_parameter(group, sub)\n",
    "        print('sub: ', sub)                     \n",
    "        print('position: \\n',position)        \n",
    "        print('\\n') \n",
    "        print('velocity: \\n',velocity)        \n",
    "        print('\\n') \n",
    "        print('accerlation: \\n',accerlation)\n",
    "        print('\\n')    \n",
    "        return accerlation, position, velocity"
   ]
  },
  {
   "cell_type": "code",
   "execution_count": 41,
   "metadata": {},
   "outputs": [
    {
     "name": "stdout",
     "output_type": "stream",
     "text": [
      "Filename is: \n",
      " samples/linear_zero.hdf5\n",
      "main_key: \n",
      " linear_zero_run\n",
      "list(file.get(main_key)): \n",
      " ['1']\n",
      "sub:  1\n",
      "position: \n",
      " [[  0.   0.]\n",
      " [ 50.  50.]\n",
      " [150. 150.]\n",
      " [200. 200.]\n",
      " [250. 250.]\n",
      " [300. 300.]\n",
      " [350. 350.]\n",
      " [400. 400.]\n",
      " [450. 450.]\n",
      " [500. 500.]\n",
      " [550. 550.]\n",
      " [600. 600.]]\n",
      "\n",
      "\n",
      "velocity: \n",
      " [[ 50.  50.]\n",
      " [100. 100.]\n",
      " [ 50.  50.]\n",
      " [ 50.  50.]\n",
      " [ 50.  50.]\n",
      " [ 50.  50.]\n",
      " [ 50.  50.]\n",
      " [ 50.  50.]\n",
      " [ 50.  50.]\n",
      " [ 50.  50.]\n",
      " [ 50.  50.]]\n",
      "\n",
      "\n",
      "accerlation: \n",
      " [[ 50.  50.]\n",
      " [-50. -50.]\n",
      " [  0.   0.]\n",
      " [  0.   0.]\n",
      " [  0.   0.]\n",
      " [  0.   0.]\n",
      " [  0.   0.]\n",
      " [  0.   0.]\n",
      " [  0.   0.]\n",
      " [  0.   0.]]\n",
      "\n",
      "\n"
     ]
    }
   ],
   "source": [
    "accerlation, position, velocity = read_hdf5_auto(\"samples/linear_zero.hdf5\")"
   ]
  },
  {
   "cell_type": "code",
   "execution_count": 4,
   "metadata": {},
   "outputs": [],
   "source": [
    "file = h5py.File(\"samples/linear_zero.hdf5\")"
   ]
  },
  {
   "cell_type": "code",
   "execution_count": 5,
   "metadata": {},
   "outputs": [
    {
     "data": {
      "text/plain": [
       "<HDF5 file \"linear_zero.hdf5\" (mode r+)>"
      ]
     },
     "execution_count": 5,
     "metadata": {},
     "output_type": "execute_result"
    }
   ],
   "source": [
    "file"
   ]
  },
  {
   "cell_type": "code",
   "execution_count": 22,
   "metadata": {},
   "outputs": [
    {
     "data": {
      "text/plain": [
       "'linear_zero_run'"
      ]
     },
     "execution_count": 22,
     "metadata": {},
     "output_type": "execute_result"
    }
   ],
   "source": [
    "main_key=list(file)[0]\n",
    "main_key"
   ]
  },
  {
   "cell_type": "code",
   "execution_count": 12,
   "metadata": {},
   "outputs": [
    {
     "data": {
      "text/plain": [
       "[('linear_zero_run', <HDF5 group \"/linear_zero_run\" (1 members)>)]"
      ]
     },
     "execution_count": 12,
     "metadata": {},
     "output_type": "execute_result"
    }
   ],
   "source": [
    "list(file.items())"
   ]
  },
  {
   "cell_type": "code",
   "execution_count": 19,
   "metadata": {},
   "outputs": [],
   "source": [
    "group = file.get(main_key)"
   ]
  },
  {
   "cell_type": "code",
   "execution_count": 21,
   "metadata": {},
   "outputs": [
    {
     "data": {
      "text/plain": [
       "[('1', <HDF5 group \"/linear_zero_run/1\" (3 members)>)]"
      ]
     },
     "execution_count": 21,
     "metadata": {},
     "output_type": "execute_result"
    }
   ],
   "source": [
    "list(group.items())"
   ]
  },
  {
   "cell_type": "code",
   "execution_count": 31,
   "metadata": {},
   "outputs": [
    {
     "data": {
      "text/plain": [
       "[('Acceleration', <HDF5 dataset \"Acceleration\": shape (10, 2), type \"<f8\">),\n",
       " ('Positions', <HDF5 dataset \"Positions\": shape (12, 2), type \"<f8\">),\n",
       " ('Velocity', <HDF5 dataset \"Velocity\": shape (11, 2), type \"<f8\">)]"
      ]
     },
     "execution_count": 31,
     "metadata": {},
     "output_type": "execute_result"
    }
   ],
   "source": [
    "data_group = group.get('1')\n",
    "list(data_group.items())"
   ]
  },
  {
   "cell_type": "code",
   "execution_count": 34,
   "metadata": {},
   "outputs": [
    {
     "data": {
      "text/plain": [
       "<HDF5 dataset \"Acceleration\": shape (10, 2), type \"<f8\">"
      ]
     },
     "execution_count": 34,
     "metadata": {},
     "output_type": "execute_result"
    }
   ],
   "source": [
    "accer_data = data_group.get('Acceleration'); accer_data"
   ]
  },
  {
   "cell_type": "code",
   "execution_count": 35,
   "metadata": {},
   "outputs": [
    {
     "data": {
      "text/plain": [
       "array([[ 50.,  50.],\n",
       "       [-50., -50.],\n",
       "       [  0.,   0.],\n",
       "       [  0.,   0.],\n",
       "       [  0.,   0.],\n",
       "       [  0.,   0.],\n",
       "       [  0.,   0.],\n",
       "       [  0.,   0.],\n",
       "       [  0.,   0.],\n",
       "       [  0.,   0.]])"
      ]
     },
     "execution_count": 35,
     "metadata": {},
     "output_type": "execute_result"
    }
   ],
   "source": [
    "np.array(accer_data)"
   ]
  },
  {
   "cell_type": "code",
   "execution_count": 39,
   "metadata": {},
   "outputs": [
    {
     "ename": "NameError",
     "evalue": "name 'acceleration' is not defined",
     "output_type": "error",
     "traceback": [
      "\u001b[1;31m---------------------------------------------------------------------------\u001b[0m",
      "\u001b[1;31mNameError\u001b[0m                                 Traceback (most recent call last)",
      "\u001b[1;32m<ipython-input-39-df74409b82b1>\u001b[0m in \u001b[0;36m<module>\u001b[1;34m()\u001b[0m\n\u001b[1;32m----> 1\u001b[1;33m \u001b[0macceleration\u001b[0m\u001b[1;33m\u001b[0m\u001b[0m\n\u001b[0m",
      "\u001b[1;31mNameError\u001b[0m: name 'acceleration' is not defined"
     ]
    }
   ],
   "source": [
    "acceleration"
   ]
  }
 ],
 "metadata": {
  "kernelspec": {
   "display_name": "Python 3",
   "language": "python",
   "name": "python3"
  },
  "language_info": {
   "codemirror_mode": {
    "name": "ipython",
    "version": 3
   },
   "file_extension": ".py",
   "mimetype": "text/x-python",
   "name": "python",
   "nbconvert_exporter": "python",
   "pygments_lexer": "ipython3",
   "version": "3.6.5"
  }
 },
 "nbformat": 4,
 "nbformat_minor": 2
}
