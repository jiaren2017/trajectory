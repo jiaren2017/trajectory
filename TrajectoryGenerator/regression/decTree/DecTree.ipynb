{
 "cells": [
  {
   "cell_type": "code",
   "execution_count": 1,
   "metadata": {},
   "outputs": [],
   "source": [
    "from math import log\n",
    "from matplotlib.font_manager import FontProperties\n",
    "import numpy as np\n",
    "import matplotlib.pyplot as plt\n",
    "import operator\n",
    "import pickle "
   ]
  },
  {
   "cell_type": "markdown",
   "metadata": {},
   "source": [
    "## Decision Tree"
   ]
  },
  {
   "cell_type": "code",
   "execution_count": 118,
   "metadata": {},
   "outputs": [],
   "source": [
    "def createDataSet():\n",
    "    dataSet =   [[0, 0, 0, 0, 'no'],         #数据集\n",
    "                [0, 0, 0, 1, 'no'],\n",
    "                [0, 1, 0, 1, 'yes'],\n",
    "                [0, 1, 1, 0, 'yes'],\n",
    "                [0, 0, 0, 0, 'no'],\n",
    "                [1, 0, 0, 0, 'no'],\n",
    "                [1, 0, 0, 1, 'no'],\n",
    "                [1, 1, 1, 1, 'yes'],\n",
    "                [1, 0, 1, 2, 'yes'],\n",
    "                [1, 0, 1, 2, 'yes'],\n",
    "                [2, 0, 1, 2, 'yes'],\n",
    "                [2, 0, 1, 1, 'yes'],\n",
    "                [2, 1, 0, 1, 'yes'],\n",
    "                [2, 1, 0, 2, 'yes'],\n",
    "                [2, 0, 0, 0, 'no']]\n",
    "                \n",
    "    labels = ['年龄', '有工作', '有自己的房子', '信贷情况']        #分类属性\n",
    "    return dataSet, labels                #返回数据集和分类属性\n",
    "    \n",
    "def createDataSet_easy():\n",
    "    dataSet =   [[1, 1, 'no'],         #数据集\n",
    "                [0, 0, 'no'],\n",
    "                [0, 1,'yes'],\n",
    "                [1, 0, 'yes']]\n",
    "                \n",
    "    labels = ['no surfacing', 'flippers']        #分类属性\n",
    "    return dataSet, labels                #返回数据集和分类属性\n",
    "    \n",
    "def calcShannonEnt(dataSet):\n",
    "    numEntries = len(dataSet)                               #   返回数据集的行数\n",
    "    labelCounts = {}                                        #   保存每个标签(Label)出现次数的字典\n",
    "    for featVec in dataSet:                                 #   对每组特征向量进行统计\n",
    "        currentLabel = featVec[-1]                          #   提取标签(Label)信息\n",
    "        if currentLabel not in labelCounts.keys():          #   如果标签(Label)没有放入统计次数的字典,添加进去\n",
    "            labelCounts[currentLabel] = 0\n",
    "        labelCounts[currentLabel] += 1                      #   Label计数\n",
    "#        print('\\nlabelCounts:\\n', labelCounts)\n",
    "    shannonEnt = 0.0                                        #   经验熵(香农熵)\n",
    "#    print('\\nlabelCounts:\\n', labelCounts) \n",
    "    for key in labelCounts:                                 #   计算香农熵\n",
    "        prob = float(labelCounts[key]) / numEntries         #   选择该标签(Label)的概率\n",
    "        shannonEnt -= prob * log(prob,2)                    #   利用公式计算\n",
    "    return shannonEnt                                       #   返回经验熵(香农熵)    \n",
    "    \n",
    "    \n",
    "def splitDataSet(dataSet, axis, value):       \n",
    "    retDataSet = []                                         #   创建返回的数据集列表\n",
    "    for featVec in dataSet:                                 #   遍历数据集\n",
    "        if featVec[axis] == value:\n",
    "#            print('\\nfeatVec:\\n', featVec)\n",
    "            reducedFeatVec = featVec[:axis]                 #   去掉axis特征\n",
    "            reducedFeatVec.extend(featVec[axis+1:])         #   将符合条件的添加到返回的数据集\n",
    "            retDataSet.append(reducedFeatVec)\n",
    "    return retDataSet                                       #   返回划分后的数据集\n",
    "            \n",
    "\n",
    "def chooseBestFeatureToSplit(dataSet):\n",
    "    numFeatures = len(dataSet[0]) - 1                       #   dataSet[0]: '[0, 0, 0, 0, 'no'] -  1(除去'no') 的特征数量为 4\n",
    "    baseEntropy = calcShannonEnt(dataSet)                   #   计算数据集的香农熵\n",
    "    bestInfoGain = 0.0                                      #   信息增益\n",
    "    bestFeature = -1                                        #   最优特征的索引值\n",
    "    \n",
    "    for i in range(numFeatures):                            #   遍历所有特征\n",
    "        #获取dataSet的第i个所有特征\n",
    "        featList = [example[i] for example in dataSet]      #   为每行，按照i列的信息建立一个特征list\n",
    "        print('\\nfeatList:\\n', featList)    \n",
    "        uniqueVals = set(featList)                          #   根据特征listim的元素来创建set集合{},元素不可重复\n",
    "        print('\\nuniqueVals:\\n', uniqueVals) \n",
    "        \n",
    "        newEntropy = 0.0                                    #   条件经验熵\n",
    "        for value in uniqueVals:                            #   计算信息增益\n",
    "            subDataSet = splitDataSet(dataSet, i, value)    #   subDataSet划分后的子集\n",
    "            print('\\nsubDataSet:\\n', subDataSet) \n",
    "            prob = len(subDataSet) / float(len(dataSet))    #   计算子集的概率\n",
    "            newEntropy += prob * calcShannonEnt(subDataSet) #   根据公式计算经验条件熵\n",
    "        infoGain = baseEntropy - newEntropy                 #   信息增益\n",
    "        print(\"第%d个特征的增益为%.3f\" % (i, infoGain))     #   打印每个特征的信息增益\n",
    "        if (infoGain > bestInfoGain):                       #   计算信息增益\n",
    "            bestInfoGain = infoGain                         #   更新信息增益，找到最大的信息增益\n",
    "            bestFeature = i                                 #   记录信息增益最大的特征的索引值\n",
    "    return bestFeature                                      #   返回信息增益最大的特征的索引值\n",
    "\n",
    "    \n",
    "def majorityCnt(classList):\n",
    "    classCount = {}\n",
    "    for vote in classList:                                        #统计classList中每个元素出现的次数\n",
    "        if vote not in classCount.keys():\n",
    "            classCount[vote] = 0   \n",
    "        classCount[vote] += 1\n",
    "    sortedClassCount = sorted(classCount.items(), key = operator.itemgetter(1), reverse = True)     #   根据字典的值降序排序\n",
    "    return sortedClassCount[0][0]                                                                   #   返回classList中出现次数最多的元素\n",
    "\n",
    "    \n",
    "def createTree(dataSet, labels, featLabels):\n",
    "    classList = [example[-1] for example in dataSet]            #   取分类标签(是否放贷:yes or no)\n",
    "    if classList.count(classList[0]) == len(classList):         #   如果类别完全相同则停止继续划分\n",
    "        return classList[0]\n",
    "    if len(dataSet[0]) == 1:                                    #   遍历完所有特征时返回出现次数最多的类标签\n",
    "        return majorityCnt(classList)\n",
    "    bestFeat = chooseBestFeatureToSplit(dataSet)                #   选择最优特征\n",
    "    bestFeatLabel = labels[bestFeat]                            #   最优特征的标签\n",
    "    featLabels.append(bestFeatLabel)\n",
    "    myTree = {bestFeatLabel:{}}                                 #   根据最优特征的标签生成树\n",
    "    del(labels[bestFeat])                                       #   删除已经使用特征标签\n",
    "    featValues = [example[bestFeat] for example in dataSet]     #   得到训练集中所有最优特征的属性值\n",
    "    uniqueVals = set(featValues)                                #   去掉重复的属性值\n",
    "    for value in uniqueVals:                                    #   遍历特征，创建决策树。                       \n",
    "        myTree[bestFeatLabel][value] = createTree(splitDataSet(dataSet, bestFeat, value), labels, featLabels)\n",
    "    return myTree\n",
    "\n",
    "\n",
    "#   获取决策树叶结点的数目\n",
    "def getNumLeafs(myTree):\n",
    "    numLeafs = 0                                                #初始化叶子\n",
    "    firstStr = next(iter(myTree))                                #python3中myTree.keys()返回的是dict_keys,不再是list,所以不能使用myTree.keys()[0]的方法获取结点属性，可以使用list(myTree.keys())[0]\n",
    "    secondDict = myTree[firstStr]                                #获取下一组字典\n",
    "    for key in secondDict.keys():\n",
    "        if type(secondDict[key]).__name__=='dict':                #测试该结点是否为字典，如果不是字典，代表此结点为叶子结点\n",
    "            numLeafs += getNumLeafs(secondDict[key])\n",
    "        else:   numLeafs +=1\n",
    "    return numLeafs\n",
    "    \n",
    "    \n",
    "#   获取决策树 的 层数\n",
    "def getTreeDepth(myTree):\n",
    "    maxDepth = 0                                                #初始化决策树深度\n",
    "    firstStr = next(iter(myTree))                                #python3中myTree.keys()返回的是dict_keys,不在是list,所以不能使用myTree.keys()[0]的方法获取结点属性，可以使用list(myTree.keys())[0]\n",
    "    secondDict = myTree[firstStr]                                #获取下一个字典\n",
    "    for key in secondDict.keys():\n",
    "        if type(secondDict[key]).__name__=='dict':                #测试该结点是否为字典，如果不是字典，代表此结点为叶子结点\n",
    "            thisDepth = 1 + getTreeDepth(secondDict[key])\n",
    "        else:   thisDepth = 1\n",
    "        if thisDepth > maxDepth: maxDepth = thisDepth            #更新层数\n",
    "    return maxDepth\n",
    "    \n",
    "    \n",
    "#   绘制带箭头注解\n",
    "def plotNode(nodeTxt, centerPt, parentPt, nodeType):                        \n",
    "    arrow_args = dict(arrowstyle=\"<-\")                                            #定义箭头格式\n",
    "    font = FontProperties(fname=r\"c:\\windows\\fonts\\simsun.ttc\", size=14)        #设置中文字体\n",
    "    createPlot.ax1.annotate(nodeTxt, xy=parentPt,  xycoords='axes fraction',    #绘制结点\n",
    "        xytext=centerPt, textcoords='axes fraction',\n",
    "        va=\"center\", ha=\"center\", bbox=nodeType, arrowprops=arrow_args, FontProperties=font)\n",
    "        \n",
    "#   在父子节点之间填充文本信息\n",
    "def plotMidText(cntrPt, parentPt, txtString):\n",
    "    xMid = (parentPt[0]-cntrPt[0])/2.0 + cntrPt[0]                                            #计算标注位置                   \n",
    "    yMid = (parentPt[1]-cntrPt[1])/2.0 + cntrPt[1]\n",
    "    createPlot.ax1.text(xMid, yMid, txtString, va=\"center\", ha=\"center\", rotation=30)\n",
    "    \n",
    "        \n",
    "  # 绘制决策树\n",
    "def plotTree(myTree, parentPt, nodeTxt):                    \n",
    "    decisionNode = dict(boxstyle=\"sawtooth\", fc=\"0.8\")                                      #设置结点格式，  定义文本框和箭头模式\n",
    "    leafNode = dict(boxstyle=\"round4\", fc=\"0.8\")                                            #设置叶结点格式\n",
    "    numLeafs = getNumLeafs(myTree)                                                          #获取决策树叶结点数目，决定了树的宽度\n",
    "    depth = getTreeDepth(myTree)                                                            #获取决策树层数\n",
    "    firstStr = next(iter(myTree))                                                            #下个字典                                                 \n",
    "    cntrPt = (plotTree.xOff + (1.0 + float(numLeafs))/2.0/plotTree.totalW, plotTree.yOff)    #中心位置\n",
    "    plotMidText(cntrPt, parentPt, nodeTxt)                                                    #标注有向边属性值\n",
    "    plotNode(firstStr, cntrPt, parentPt, decisionNode)                                        #绘制结点\n",
    "    secondDict = myTree[firstStr]                                                            #下一个字典，也就是继续绘制子结点\n",
    "    plotTree.yOff = plotTree.yOff - 1.0/plotTree.totalD                                        #y偏移\n",
    "    for key in secondDict.keys():                               \n",
    "        if type(secondDict[key]).__name__=='dict':                                            #测试该结点是否为字典，如果不是字典，代表此结点为叶子结点\n",
    "            plotTree(secondDict[key],cntrPt,str(key))                                        #不是叶结点，递归调用继续绘制\n",
    "        else:                                                                                #如果是叶结点，绘制叶结点，并标注有向边属性值                                             \n",
    "            plotTree.xOff = plotTree.xOff + 1.0/plotTree.totalW\n",
    "            plotNode(secondDict[key], (plotTree.xOff, plotTree.yOff), cntrPt, leafNode)\n",
    "            plotMidText((plotTree.xOff, plotTree.yOff), cntrPt, str(key))\n",
    "    plotTree.yOff = plotTree.yOff + 1.0/plotTree.totalD\n",
    "\n",
    "\n",
    "#  绘制图像\n",
    "def createPlot(inTree):\n",
    "    fig = plt.figure(1, facecolor='white')                                                    #创建fig\n",
    "    fig.clf()                                                                                #清空fig\n",
    "    axprops = dict(xticks=[], yticks=[])\n",
    "    createPlot.ax1 = plt.subplot(111, frameon=False, **axprops)                                #去掉x、y轴\n",
    "    plotTree.totalW = float(getNumLeafs(inTree))                                            #获取决策树叶结点数目\n",
    "    plotTree.totalD = float(getTreeDepth(inTree))                                            #获取决策树层数\n",
    "    plotTree.xOff = -0.5/plotTree.totalW; plotTree.yOff = 1.0;                                #x偏移\n",
    "    plotTree(inTree, (0.5,1.0), '')                                                            #绘制决策树\n",
    "    plt.show()                                                                                 #显示绘制结果     \n",
    "\n",
    "    \n",
    "def classify(inputTree, featLabels, testVec):\n",
    "    firstStr = next(iter(inputTree))                                                        #获取决策树结点\n",
    "    secondDict = inputTree[firstStr]                                                        #下一个字典\n",
    "    featIndex = featLabels.index(firstStr)                                               \n",
    "    for key in secondDict.keys():\n",
    "        if testVec[featIndex] == key:\n",
    "            if type(secondDict[key]).__name__ == 'dict':\n",
    "                classLabel = classify(secondDict[key], featLabels, testVec)\n",
    "            else: classLabel = secondDict[key]\n",
    "    return classLabel\n",
    "    \n",
    "\n",
    "#   将决策树保存在硬盘上\n",
    "def storeTree(inputTree, filename):\n",
    "    with open(filename, 'wb') as fw:\n",
    "        pickle.dump(inputTree, fw)\n",
    "        \n",
    "#   将硬盘上的决策树载入  \n",
    "def grabTree(filename):\n",
    "    fr = open(filename, 'rb')\n",
    "    return pickle.load(fr) "
   ]
  },
  {
   "cell_type": "code",
   "execution_count": 119,
   "metadata": {
    "collapsed": true
   },
   "outputs": [
    {
     "name": "stdout",
     "output_type": "stream",
     "text": [
      "\n",
      "featList:\n",
      " [0, 0, 0, 0, 0, 1, 1, 1, 1, 1, 2, 2, 2, 2, 2]\n",
      "\n",
      "uniqueVals:\n",
      " {0, 1, 2}\n",
      "\n",
      "subDataSet:\n",
      " [[0, 0, 0, 'no'], [0, 0, 1, 'no'], [1, 0, 1, 'yes'], [1, 1, 0, 'yes'], [0, 0, 0, 'no']]\n",
      "\n",
      "subDataSet:\n",
      " [[0, 0, 0, 'no'], [0, 0, 1, 'no'], [1, 1, 1, 'yes'], [0, 1, 2, 'yes'], [0, 1, 2, 'yes']]\n",
      "\n",
      "subDataSet:\n",
      " [[0, 1, 2, 'yes'], [0, 1, 1, 'yes'], [1, 0, 1, 'yes'], [1, 0, 2, 'yes'], [0, 0, 0, 'no']]\n",
      "第0个特征的增益为0.083\n",
      "\n",
      "featList:\n",
      " [0, 0, 1, 1, 0, 0, 0, 1, 0, 0, 0, 0, 1, 1, 0]\n",
      "\n",
      "uniqueVals:\n",
      " {0, 1}\n",
      "\n",
      "subDataSet:\n",
      " [[0, 0, 0, 'no'], [0, 0, 1, 'no'], [0, 0, 0, 'no'], [1, 0, 0, 'no'], [1, 0, 1, 'no'], [1, 1, 2, 'yes'], [1, 1, 2, 'yes'], [2, 1, 2, 'yes'], [2, 1, 1, 'yes'], [2, 0, 0, 'no']]\n",
      "\n",
      "subDataSet:\n",
      " [[0, 0, 1, 'yes'], [0, 1, 0, 'yes'], [1, 1, 1, 'yes'], [2, 0, 1, 'yes'], [2, 0, 2, 'yes']]\n",
      "第1个特征的增益为0.324\n",
      "\n",
      "featList:\n",
      " [0, 0, 0, 1, 0, 0, 0, 1, 1, 1, 1, 1, 0, 0, 0]\n",
      "\n",
      "uniqueVals:\n",
      " {0, 1}\n",
      "\n",
      "subDataSet:\n",
      " [[0, 0, 0, 'no'], [0, 0, 1, 'no'], [0, 1, 1, 'yes'], [0, 0, 0, 'no'], [1, 0, 0, 'no'], [1, 0, 1, 'no'], [2, 1, 1, 'yes'], [2, 1, 2, 'yes'], [2, 0, 0, 'no']]\n",
      "\n",
      "subDataSet:\n",
      " [[0, 1, 0, 'yes'], [1, 1, 1, 'yes'], [1, 0, 2, 'yes'], [1, 0, 2, 'yes'], [2, 0, 2, 'yes'], [2, 0, 1, 'yes']]\n",
      "第2个特征的增益为0.420\n",
      "\n",
      "featList:\n",
      " [0, 1, 1, 0, 0, 0, 1, 1, 2, 2, 2, 1, 1, 2, 0]\n",
      "\n",
      "uniqueVals:\n",
      " {0, 1, 2}\n",
      "\n",
      "subDataSet:\n",
      " [[0, 0, 0, 'no'], [0, 1, 1, 'yes'], [0, 0, 0, 'no'], [1, 0, 0, 'no'], [2, 0, 0, 'no']]\n",
      "\n",
      "subDataSet:\n",
      " [[0, 0, 0, 'no'], [0, 1, 0, 'yes'], [1, 0, 0, 'no'], [1, 1, 1, 'yes'], [2, 0, 1, 'yes'], [2, 1, 0, 'yes']]\n",
      "\n",
      "subDataSet:\n",
      " [[1, 0, 1, 'yes'], [1, 0, 1, 'yes'], [2, 0, 1, 'yes'], [2, 1, 0, 'yes']]\n",
      "第3个特征的增益为0.363\n",
      "\n",
      "featList:\n",
      " [0, 0, 0, 0, 1, 1, 2, 2, 2]\n",
      "\n",
      "uniqueVals:\n",
      " {0, 1, 2}\n",
      "\n",
      "subDataSet:\n",
      " [[0, 0, 'no'], [0, 1, 'no'], [1, 1, 'yes'], [0, 0, 'no']]\n",
      "\n",
      "subDataSet:\n",
      " [[0, 0, 'no'], [0, 1, 'no']]\n",
      "\n",
      "subDataSet:\n",
      " [[1, 1, 'yes'], [1, 2, 'yes'], [0, 0, 'no']]\n",
      "第0个特征的增益为0.252\n",
      "\n",
      "featList:\n",
      " [0, 0, 1, 0, 0, 0, 1, 1, 0]\n",
      "\n",
      "uniqueVals:\n",
      " {0, 1}\n",
      "\n",
      "subDataSet:\n",
      " [[0, 0, 'no'], [0, 1, 'no'], [0, 0, 'no'], [1, 0, 'no'], [1, 1, 'no'], [2, 0, 'no']]\n",
      "\n",
      "subDataSet:\n",
      " [[0, 1, 'yes'], [2, 1, 'yes'], [2, 2, 'yes']]\n",
      "第1个特征的增益为0.918\n",
      "\n",
      "featList:\n",
      " [0, 1, 1, 0, 0, 1, 1, 2, 0]\n",
      "\n",
      "uniqueVals:\n",
      " {0, 1, 2}\n",
      "\n",
      "subDataSet:\n",
      " [[0, 0, 'no'], [0, 0, 'no'], [1, 0, 'no'], [2, 0, 'no']]\n",
      "\n",
      "subDataSet:\n",
      " [[0, 0, 'no'], [0, 1, 'yes'], [1, 0, 'no'], [2, 1, 'yes']]\n",
      "\n",
      "subDataSet:\n",
      " [[2, 1, 'yes']]\n",
      "第2个特征的增益为0.474\n"
     ]
    }
   ],
   "source": [
    "dataSet, labels = createDataSet() \n",
    "featLabels = []\n",
    "myTree = createTree(dataSet, labels, featLabels)"
   ]
  },
  {
   "cell_type": "code",
   "execution_count": 120,
   "metadata": {},
   "outputs": [
    {
     "data": {
      "text/plain": [
       "{'有自己的房子': {0: {'有工作': {0: 'no', 1: 'yes'}}, 1: 'yes'}}"
      ]
     },
     "execution_count": 120,
     "metadata": {},
     "output_type": "execute_result"
    }
   ],
   "source": [
    "myTree"
   ]
  },
  {
   "cell_type": "code",
   "execution_count": 121,
   "metadata": {},
   "outputs": [
    {
     "data": {
      "image/png": "[encoded data removed]",
      "text/plain": [
       "<matplotlib.figure.Figure at 0x21b2a44c940>"
      ]
     },
     "metadata": {},
     "output_type": "display_data"
    }
   ],
   "source": [
    "createPlot(myTree)"
   ]
  },
  {
   "cell_type": "code",
   "execution_count": 164,
   "metadata": {},
   "outputs": [
    {
     "data": {
      "text/plain": [
       "{0: {'有工作': {0: 'no', 1: 'yes'}}, 1: 'yes'}"
      ]
     },
     "execution_count": 164,
     "metadata": {},
     "output_type": "execute_result"
    },
    {
     "data": {
      "image/png": "[encoded data removed]",
      "text/plain": [
       "<matplotlib.figure.Figure at 0x21b2a2d2358>"
      ]
     },
     "metadata": {},
     "output_type": "display_data"
    }
   ],
   "source": [
    "fig = plt.figure(1, facecolor='white')                                                    #创建fig\n",
    "fig.clf()                                                                                #清空fig\n",
    "axprops = dict(xticks=[], yticks=[])\n",
    "createPlot.ax1 = plt.subplot(111, frameon=False, **axprops)                                #去掉x、y轴\n",
    "plotTree.totalW = float(getNumLeafs(myTree))\n",
    "plotTree.totalD = float(getTreeDepth(myTree))\n",
    "plotTree.xOff = -0.5/plotTree.totalW; plotTree.yOff = 1.0\n",
    "decisionNode = dict(boxstyle=\"sawtooth\", fc=\"0.8\")\n",
    "leafNode = dict(boxstyle=\"round4\", fc=\"0.8\")\n",
    "numLeafs = getNumLeafs(myTree)\n",
    "depth = getTreeDepth(myTree)\n",
    "firstStr= next(iter(myTree))\n",
    "cntrPt = (plotTree.xOff + (1.0 + float(numLeafs))/2.0/plotTree.totalW, plotTree.yOff)\n",
    "parentPt = (0.5,1.0); nodeTxt = ''\n",
    "plotMidText(cntrPt, parentPt, '')\n",
    "plotNode(firstStr, cntrPt, parentPt, decisionNode) \n",
    "secondDict = myTree[firstStr]\n",
    "secondDict"
   ]
  },
  {
   "cell_type": "code",
   "execution_count": 165,
   "metadata": {},
   "outputs": [
    {
     "data": {
      "text/plain": [
       "dict_keys([0, 1])"
      ]
     },
     "execution_count": 165,
     "metadata": {},
     "output_type": "execute_result"
    }
   ],
   "source": [
    "secondDict.keys()"
   ]
  },
  {
   "cell_type": "code",
   "execution_count": 166,
   "metadata": {},
   "outputs": [],
   "source": [
    "plotTree.xOff = plotTree.xOff + 1.0/plotTree.totalW\n",
    "plotNode(secondDict[0], (plotTree.xOff, plotTree.yOff), cntrPt, leafNode)\n",
    "plotMidText((plotTree.xOff, plotTree.yOff), cntrPt, str(0))"
   ]
  },
  {
   "cell_type": "markdown",
   "metadata": {},
   "source": [
    "## Tree-based Methods"
   ]
  },
  {
   "cell_type": "code",
   "execution_count": 101,
   "metadata": {},
   "outputs": [],
   "source": [
    "\n",
    "\n",
    "def loadDataSet_2(fileName):\n",
    "    dataList = []\n",
    "    fr = open(fileName)\n",
    "    for line in fr.readlines():\n",
    "        curLine = line.strip().split('\\t')\n",
    "        fltLine = list(map(float, curLine))      # map data to float()\n",
    "        dataList.append(fltLine)\n",
    "    return dataList\n",
    "\n",
    "def showTree(dataList, yArr_pred=None, mode=\"regTree\"):\n",
    "    n = len(dataList)                                                    \n",
    "    xcord = []; ycord = []      \n",
    "\n",
    "    if (np.shape(dataList)[1] == 2):            # check the number of columns\n",
    "        for i in range(n):   \n",
    "            xcord.append(dataList[i][0]); ycord.append(dataList[i][1])    \n",
    "    elif(np.shape(dataList)[1] == 3):\n",
    "        for i in range(n):   \n",
    "            xcord.append(dataList[i][1]); ycord.append(dataList[i][2])    \n",
    "\n",
    "    fig = plt.figure(figsize=(10,5))\n",
    "    ax = fig.add_subplot(111)                                            \n",
    "    ax.scatter(xcord, ycord, s = 20, c = 'blue',alpha = .5)      \n",
    "    if(np.all(yArr_pred != None)):\n",
    "        xMat_test = np.mat(xcord).T          \n",
    "        srtInd = xMat_test.argsort(0)    \n",
    "        xSort  = xMat_test[srtInd][:,0,:]    # copy the xMat_test in ascending order for pyplot\n",
    "        ax.plot(xSort[:], yArr_pred[srtInd], c = 'red')  \n",
    "    if(mode == \"regTree\"):\n",
    "        plt.title('Regression  Tree')         \n",
    "    elif(mode == \"modTree\"):\n",
    "        plt.title('Model  Tree')  \n",
    "    plt.xlabel('X')\n",
    "    plt.show()\n",
    "\n",
    "\n",
    "##########################   functions for building Regression Tree    ##########################\n",
    "\n",
    "def regLeaf(dataMat):                      # calculate the MEAN value as the model for a Leaf node\n",
    "    return np.mean(dataMat[:,-1])          # dataMat[:,-1]: the last column of dataMat is Y\n",
    "\n",
    "def regErr(dataMat):                       # calculate the TOTAL Squared Error of the target variables in a given dataset\n",
    "    return np.var(dataMat[:,-1]) * np.shape(dataMat)[0]            # var(x): mean((x_i - x.mean())**2)\n",
    "    # the smaller the variance is, the better the split. Goal: try to use LEAST split to seperate the whole data set\n",
    "\n",
    "##########################   functions for building Model Tree    ##############################\n",
    "\n",
    "def linearSolve(dataMat):  # format the dataset into the target variable Y and the independent variable X\n",
    "    m,n = np.shape(dataMat)\n",
    "    X = np.mat(np.ones((m,n))); Y = np.mat(np.ones((m,1)))      # generate ones-matrix\n",
    "    X[:,1:n] = dataMat[:,0:n-1];       # copy feature matrix to X, the 0th-column of matrix X is constant 1 as offset\n",
    "    Y = dataMat[:,-1]                  # copy target matrix to Y\n",
    "    xTx = X.T*X\n",
    "    if np.linalg.det(xTx) == 0.0:                   # check the inversability\n",
    "        raise NameError('This matrix is singular, cannot do inverse,\\n\\\n",
    "        try increasing the second value of Stop Condition')\n",
    "    ws = xTx.I * (X.T * Y)                          # calculate the optimal weight matrix ws with least-squares method\n",
    "    return ws,X,Y\n",
    "\n",
    "\n",
    "def modelLeaf(dataMat):                             # generate a model for a leaf node\n",
    "    ws,X,Y = linearSolve(dataMat)\n",
    "    return ws\n",
    "\n",
    "def modelErr(dataMat):                              # calculate the total squared error \n",
    "    ws,X,Y = linearSolve(dataMat)                   # of model against target\n",
    "    yHat = X * ws\n",
    "    return sum(np.power(Y - yHat, 2))        \n",
    "\n",
    "\n",
    "##########################   functions for split    ##############################\n",
    "\n",
    "def binSplitDataSet(dataMat, feature, value):                          # binary split\n",
    "    mat0 = dataMat[np.nonzero(dataMat[:,feature] <= value)[0],:]       # np.nonzero(dataMat[:,feature] <= value)[0]: return index of target rows\n",
    "    mat1 = dataMat[np.nonzero(dataMat[:,feature] > value)[0],:]        # np.nonzero(dataMat[:,feature] > value)[0]: return index of target rows\n",
    "    return mat0, mat1\n",
    "\n",
    "def chooseBestSplit(dataMat, leafType = regLeaf, errType = regErr, stopCond = (1,4)):\n",
    "    minErrReduction = stopCond[0];         # stop condition: minimal Error reduction should be made through a new split\n",
    "    minInstance = stopCond[1]              # stop condition: minimal amount of instances should be included in a leaf node\n",
    "    if len(set(dataMat[:,-1].T.tolist()[0])) == 1:     # If all y-values are equal, NO SPLIT: Leaf node\n",
    "        return None, leafType(dataMat)                 # calculate value for leaf node  \n",
    "    \n",
    "    m, n = np.shape(dataMat)      # get the size of dataset\n",
    "    preError = errType(dataMat)   # setting the last feature as the best split and estimate its error for further compare\n",
    "    bestError = float('inf');     # initialize bestError as an infinite value\n",
    "    bestIndex = 0;                # initialize best splitting feature(Index) \n",
    "    bestValue = 0                 # initialize best splitting value\n",
    "  \n",
    "    for featIndex in range(n - 1):   # iterate all feature columns to find the splitting feature and splitting value\n",
    "        for splitVal in set(dataMat[:,featIndex].T.tolist()[0]):    # iterate all x-values of ONE certain feature\n",
    "            mat0, mat1 = binSplitDataSet(dataMat, featIndex, splitVal) \n",
    "            if (np.shape(mat0)[0] < minInstance) or (np.shape(mat1)[0] < minInstance): continue  # stop conditions met, NO SPLIT: Leaf node\n",
    "            newError = errType(mat0) + errType(mat1)      # calculate the new error from two split sets\n",
    "            if newError < bestError:                      # update if new error is smaller than best error\n",
    "                bestIndex = featIndex\n",
    "                bestValue = splitVal\n",
    "                bestError = newError\n",
    "                \n",
    "    if (preError - bestError) < minErrReduction:                 # If stop conditions met, NO SPLIT: leaf node\n",
    "        return None, leafType(dataMat)                           # calculate value for leaf node\n",
    "    \n",
    "    mat0, mat1 = binSplitDataSet(dataMat, bestIndex, bestValue)   # otherweise make the best split\n",
    "    if (np.shape(mat0)[0] < minInstance) or (np.shape(mat1)[0] < minInstance):  # If stop conditions met, NO SPLIT: leaf node\n",
    "        return None, leafType(dataMat)                            # calculate value for leaf node  \n",
    "    return bestIndex, bestValue\n",
    "\n",
    "\n",
    "##########################   functions for Creating and Pruning tree    ##############################\n",
    "\n",
    "def createTree(dataMat_train, leafType = regLeaf, errType = regErr, stopCond = (1, 4)):\n",
    "    feat, val = chooseBestSplit(dataMat_train, leafType, errType, stopCond)\n",
    "    if feat == None: return val        # If stop condition met, return leaf value for the leaf node \n",
    "    retTree = {}                       # define retTree as dictionary\n",
    "    retTree['spFeatIndex'] = feat\n",
    "    retTree['spValue'] = val\n",
    "    left_Set, right_Set = binSplitDataSet(dataMat_train, feat, val)\n",
    "    retTree['left'] = createTree(left_Set, leafType, errType, stopCond)\n",
    "    retTree['right'] = createTree(right_Set, leafType, errType, stopCond)\n",
    "    return retTree  \n",
    "\n",
    "def isTree(obj):      # check whether it is a tree or a leaf node\n",
    "    return (type(obj).__name__ == 'dict') \n",
    " \n",
    "\n",
    "def getMean(tree):    # descend a tree untill it hits only leaf nodes, then take the MEAN value of both\n",
    "    if isTree(tree['right']): \n",
    "        tree['right'] = getMean(tree['right'])\n",
    "    if isTree(tree['left']): \n",
    "        tree['left'] = getMean(tree['left'])\n",
    "    return (tree['left'] + tree['right']) / 2.0    \n",
    "\n",
    "\n",
    "def prune(tree, testData):            # Post-pruning\n",
    "    if np.shape(testData)[0] == 0:    # If no test data return MEAN value of left and right nodes \n",
    "        return getMean(tree)  \n",
    "    \n",
    "    if (isTree(tree['right']) or isTree(tree['left'])):  # split test data according to the trained tree\n",
    "        lSet, rSet = binSplitDataSet(testData, tree['spFeatIndex'], tree['spValue'])\n",
    "    if isTree(tree['left']): \n",
    "        tree['left'] = prune(tree['left'], lSet)      # prune the left subtree\n",
    "    if isTree(tree['right']): \n",
    "        tree['right'] = prune(tree['right'], rSet)    # prune the right subtree\n",
    "    if not isTree(tree['left']) and not isTree(tree['right']):     # if the leaf node of trained tree is reached\n",
    "        \n",
    "        #  test the total squared error with the value of leaf node of trained tree\n",
    "        lSet, rSet = binSplitDataSet(testData, tree['spFeatIndex'], tree['spValue']) \n",
    "        errorNoMerge = np.sum(np.power(lSet[:,-1] - tree['left'], 2)) + np.sum(np.power(rSet[:,-1] - tree['right'], 2))\n",
    "\n",
    "        #  test the total squared error with the MEAN value of leaf node of trained tree\n",
    "        treeMean = (tree['left'] + tree['right']) / 2.0\n",
    "        errorMerge = np.sum(np.power(testData[:,-1] - treeMean, 2))\n",
    "        \n",
    "        if errorMerge < errorNoMerge: \n",
    "  #          print(\"merging, tree['spFeatIndex']: {}, tree['spValue']:{}, tree['left']:{}, tree['right']:{}\".format(tree['spFeatIndex'],tree['spValue'],tree['left'],tree['right']))\n",
    "  #          print(\"treeMean:\", treeMean)\n",
    "  #          print(\"\\n\")\n",
    "            return treeMean             # MERGE the left and right leaf node into one leaf node with MEAN value\n",
    "        else: \n",
    "            return tree\n",
    "    else: \n",
    "        return tree\n",
    "    \n",
    "    \n",
    "    \n",
    "##########################   functions for Prediction with Tree Model    ##############################\n",
    "\n",
    "def regTreeEval(model, inDat):     # evaluate a Regression Tree leaf node\n",
    "    return float(model)            # return the value at the leaf node\n",
    "\n",
    "\n",
    "def modelTreeEval(model, inDat):   # evaluate a Model Tree leaf node\n",
    "    n = np.shape(inDat)[1]\n",
    "    X = np.mat(np.ones((1, n+1)))  # n+1 features, including the offset\n",
    "    X[:, 1: n+1] = inDat           # copy inDat to X second to (n+1)th. column, X first column is offset with value '1'\n",
    "    return float(X * model)        # return the forecasted value\n",
    "\n",
    "\n",
    "# give one forecast for one data point, for a given tree.\n",
    "def treeForecast(tree_trained, dataMat_test, modelEval=regTreeEval):\n",
    "\n",
    "    if not isTree(tree_trained):                                # when a leaf node is hit, run modelEval()\n",
    "        return modelEval(tree_trained, inData)\n",
    "    \n",
    "#    print(\"dataMat_test[tree_trained['spFeatIndex']]: \", dataMat_test[:,tree_trained['spFeatIndex']])\n",
    "#    print(\"tree_trained['spValue']: \", tree_trained['spValue'])\n",
    "    \n",
    "    if dataMat_test[:,tree_trained['spFeatIndex']] <= tree_trained['spValue']:    # follow the tree based on the input data \n",
    "        if isTree(tree_trained['left']):                                          # until a leaf node is hit \n",
    "            return treeForecast(tree_trained['left'], dataMat_test, modelEval)\n",
    "        else:\n",
    "            return modelEval(tree_trained['left'], dataMat_test)\n",
    "    else:\n",
    "        if isTree(tree_trained['right']):\n",
    "            return treeForecast(tree_trained['right'], dataMat_test, modelEval)\n",
    "        else:\n",
    "            return modelEval(tree_trained['right'], dataMat_test)\n",
    "        \n",
    "        \n",
    "def createForeCast(tree_trained, dataMat_test, modelEval=regTreeEval):\n",
    "    m = len(dataMat_test)\n",
    "    yArr_pred = np.zeros(m)\n",
    "    for i in range(m):                        #  run prediction for each SINGLE value of test set\n",
    "        yArr_pred[i] = treeForecast(tree_trained, np.mat(dataMat_test[i]), modelEval)\n",
    "    return yArr_pred\n",
    "\n",
    "\n",
    "##########################   functions for plot the tree    ##############################\n",
    "\n",
    "def getNumLeafs(tree, numLeafNode=0):\n",
    "#    print(\"tree is {} and numLeafNode is {}\".format(tree, numLeafNode))\n",
    "   \n",
    "    if isTree(tree['left']):       # check the 'left' part, whether it is a leaf node already\n",
    "        numLeafNode = countLeafNode(tree['left'], numLeafNode)\n",
    "    else:\n",
    "        numLeafNode += 1           # 'left' is a leaf node,then increment the total number of leaf node and then  check the 'right' of the SAME level!\n",
    "\n",
    "    if isTree(tree['right']):      # check the 'right' of the SAME level\n",
    "        numLeafNode = countLeafNode(tree['right'], numLeafNode)\n",
    "    else:\n",
    "        return numLeafNode + 1     # if it is a lefe node, then return to the last stage\n",
    "    \n",
    "    return numLeafNode\n",
    "\n",
    "\n",
    "def getDepth(tree, numTreeDepth=0, max =0):\n",
    "    \n",
    "#   print(\"\\ntree is {} \\nnumTreeDepth is {} \\nmax is {}\".format(tree, numTreeDepth, max))\n",
    "    if not isTree(tree): \n",
    "#        print(\"not a tree !!\")\n",
    "        return 0\n",
    "   \n",
    "    if isTree(tree['left']):       # check the 'left' part, whether it is a tree \n",
    "        max = getDepth(tree['left'], numTreeDepth + 1, max)     # it is a tree, then go deep\n",
    "\n",
    "    if isTree(tree['right']):      # check the 'right' of the SAME level\n",
    "        max = getDepth(tree['right'], numTreeDepth + 1, max)\n",
    "    else:\n",
    "        numTreeDepth += 1\n",
    "        \n",
    "    max = numTreeDepth if numTreeDepth >= max else max\n",
    "    return max             # return to the last stage\n",
    "    \n",
    "    \n",
    "def getTreeDepth(tree):\n",
    "    leftDepth = getDepth(tree['left'])\n",
    "    rightDepth = getDepth(tree['right'])\n",
    "    treeDepth = leftDepth if leftDepth >= rightDepth else rightDepth\n",
    "    return treeDepth+1"
   ]
  },
  {
   "cell_type": "code",
   "execution_count": 102,
   "metadata": {},
   "outputs": [
    {
     "data": {
      "image/png": "[encoded data removed]",
      "text/plain": [
       "<matplotlib.figure.Figure at 0x21b2a325b70>"
      ]
     },
     "metadata": {},
     "output_type": "display_data"
    },
    {
     "name": "stdout",
     "output_type": "stream",
     "text": [
      "Regression tree:  {'spFeatIndex': 0, 'spValue': 0.48813, 'left': -0.04465028571428572, 'right': 1.0180967672413792}\n",
      "\n",
      "correlation coefficients (Origin)):  0.9317625287364821\n"
     ]
    }
   ],
   "source": [
    "##   Regression tree: Data 1\n",
    "dataList = loadDataSet_2(\"./input/data1.txt\")\n",
    "dataMat = np.mat(dataList)\n",
    "tree_trained = createTree(dataMat)\n",
    "yArr_pred = createForeCast(tree_trained, dataMat[:,0])\n",
    "showTree(dataList, yArr_pred)\n",
    "print(\"Regression tree: \", tree_trained)\n",
    "print(\"\\ncorrelation coefficients (Origin)): \", np.corrcoef(yArr_pred, dataMat[:,1], rowvar=0)[0,1])"
   ]
  },
  {
   "cell_type": "code",
   "execution_count": 103,
   "metadata": {},
   "outputs": [
    {
     "data": {
      "text/plain": [
       "{'spFeatIndex': 0,\n",
       " 'spValue': 0.48813,\n",
       " 'left': -0.04465028571428572,\n",
       " 'right': 1.0180967672413792}"
      ]
     },
     "execution_count": 103,
     "metadata": {},
     "output_type": "execute_result"
    }
   ],
   "source": [
    "tree_trained"
   ]
  },
  {
   "cell_type": "code",
   "execution_count": 104,
   "metadata": {},
   "outputs": [
    {
     "name": "stdout",
     "output_type": "stream",
     "text": [
      "not a tree !!\n"
     ]
    },
    {
     "data": {
      "text/plain": [
       "0"
      ]
     },
     "execution_count": 104,
     "metadata": {},
     "output_type": "execute_result"
    }
   ],
   "source": [
    "getDepth(tree_trained['left'])"
   ]
  },
  {
   "cell_type": "code",
   "execution_count": 105,
   "metadata": {},
   "outputs": [
    {
     "name": "stdout",
     "output_type": "stream",
     "text": [
      "not a tree !!\n"
     ]
    },
    {
     "data": {
      "text/plain": [
       "0"
      ]
     },
     "execution_count": 105,
     "metadata": {},
     "output_type": "execute_result"
    }
   ],
   "source": [
    "getDepth(tree_trained['right'])"
   ]
  },
  {
   "cell_type": "code",
   "execution_count": 106,
   "metadata": {},
   "outputs": [
    {
     "name": "stdout",
     "output_type": "stream",
     "text": [
      "not a tree !!\n",
      "not a tree !!\n"
     ]
    },
    {
     "data": {
      "text/plain": [
       "1"
      ]
     },
     "execution_count": 106,
     "metadata": {},
     "output_type": "execute_result"
    }
   ],
   "source": [
    "getTreeDepth(tree_trained)"
   ]
  },
  {
   "cell_type": "code",
   "execution_count": 107,
   "metadata": {},
   "outputs": [
    {
     "data": {
      "image/png": "[encoded data removed]",
      "text/plain": [
       "<matplotlib.figure.Figure at 0x21b2b5df2b0>"
      ]
     },
     "metadata": {},
     "output_type": "display_data"
    },
    {
     "name": "stdout",
     "output_type": "stream",
     "text": [
      "Regression tree:  {'spFeatIndex': 1, 'spValue': 0.39435, 'left': {'spFeatIndex': 1, 'spValue': 0.197834, 'left': -0.023838155555555553, 'right': 1.0289583666666666}, 'right': {'spFeatIndex': 1, 'spValue': 0.582002, 'left': 1.980035071428571, 'right': {'spFeatIndex': 1, 'spValue': 0.797583, 'left': 2.9836209534883724, 'right': 3.9871632}}}\n",
      "\n",
      "correlation coefficients (Origin):  0.990699979467444\n"
     ]
    }
   ],
   "source": [
    "##   Regression tree: Data 2\n",
    "dataList = loadDataSet_2(\"./input/data2.txt\")\n",
    "dataMat = np.mat(dataList)\n",
    "tree_trained = createTree(dataMat)\n",
    "yArr_pred = createForeCast(tree_trained, dataMat[:,:-1])\n",
    "showTree(dataList, yArr_pred)\n",
    "print(\"Regression tree: \", tree_trained)\n",
    "print(\"\\ncorrelation coefficients (Origin): \", np.corrcoef(yArr_pred, dataMat[:,2], rowvar=0)[0,1])"
   ]
  },
  {
   "cell_type": "code",
   "execution_count": 108,
   "metadata": {},
   "outputs": [
    {
     "name": "stdout",
     "output_type": "stream",
     "text": [
      "{'spFeatIndex': 1, 'spValue': 0.39435, 'left': {'spFeatIndex': 1, 'spValue': 0.197834, 'left': -0.023838155555555553, 'right': 1.0289583666666666}, 'right': {'spFeatIndex': 1, 'spValue': 0.582002, 'left': 1.980035071428571, 'right': {'spFeatIndex': 1, 'spValue': 0.797583, 'left': 2.9836209534883724, 'right': 3.9871632}}}\n"
     ]
    }
   ],
   "source": [
    "print(tree_trained)"
   ]
  },
  {
   "cell_type": "code",
   "execution_count": 109,
   "metadata": {},
   "outputs": [
    {
     "data": {
      "text/plain": [
       "{'spFeatIndex': 1,\n",
       " 'spValue': 0.39435,\n",
       " 'left': {'spFeatIndex': 1,\n",
       "  'spValue': 0.197834,\n",
       "  'left': -0.023838155555555553,\n",
       "  'right': 1.0289583666666666},\n",
       " 'right': {'spFeatIndex': 1,\n",
       "  'spValue': 0.582002,\n",
       "  'left': 1.980035071428571,\n",
       "  'right': {'spFeatIndex': 1,\n",
       "   'spValue': 0.797583,\n",
       "   'left': 2.9836209534883724,\n",
       "   'right': 3.9871632}}}"
      ]
     },
     "execution_count": 109,
     "metadata": {},
     "output_type": "execute_result"
    }
   ],
   "source": [
    "tree_trained"
   ]
  },
  {
   "cell_type": "code",
   "execution_count": 110,
   "metadata": {},
   "outputs": [
    {
     "data": {
      "text/plain": [
       "1"
      ]
     },
     "execution_count": 110,
     "metadata": {},
     "output_type": "execute_result"
    }
   ],
   "source": [
    "getDepth(tree_trained['left'])"
   ]
  },
  {
   "cell_type": "code",
   "execution_count": 111,
   "metadata": {},
   "outputs": [
    {
     "data": {
      "text/plain": [
       "2"
      ]
     },
     "execution_count": 111,
     "metadata": {},
     "output_type": "execute_result"
    }
   ],
   "source": [
    "getDepth(tree_trained['right'])"
   ]
  },
  {
   "cell_type": "code",
   "execution_count": 112,
   "metadata": {},
   "outputs": [
    {
     "data": {
      "text/plain": [
       "3"
      ]
     },
     "execution_count": 112,
     "metadata": {},
     "output_type": "execute_result"
    }
   ],
   "source": [
    "getTreeDepth(tree_trained)"
   ]
  },
  {
   "cell_type": "code",
   "execution_count": null,
   "metadata": {},
   "outputs": [],
   "source": []
  },
  {
   "cell_type": "code",
   "execution_count": null,
   "metadata": {},
   "outputs": [],
   "source": []
  },
  {
   "cell_type": "code",
   "execution_count": null,
   "metadata": {},
   "outputs": [],
   "source": []
  },
  {
   "cell_type": "code",
   "execution_count": null,
   "metadata": {},
   "outputs": [],
   "source": []
  },
  {
   "cell_type": "code",
   "execution_count": 113,
   "metadata": {},
   "outputs": [
    {
     "data": {
      "image/png": "[encoded data removed]",
      "text/plain": [
       "<matplotlib.figure.Figure at 0x21b29d8a828>"
      ]
     },
     "metadata": {},
     "output_type": "display_data"
    },
    {
     "name": "stdout",
     "output_type": "stream",
     "text": [
      "correlation coefficients (Origin):  0.9562960257378958\n"
     ]
    }
   ],
   "source": [
    "##   Regression tree: Data 3 (TRAIN, stopcondition(1,4))\n",
    "dataList = loadDataSet_2(\"./input/data3.txt\")\n",
    "dataMat = np.mat(dataList)\n",
    "tree_trained = createTree(dataMat, stopCond=(1,4))\n",
    "yArr_pred = createForeCast(tree_trained, dataMat[:,0])\n",
    "showTree(dataList, yArr_pred)\n",
    "print(\"correlation coefficients (Origin): \", np.corrcoef(yArr_pred, dataMat[:,1], rowvar=0)[0,1])"
   ]
  },
  {
   "cell_type": "code",
   "execution_count": 114,
   "metadata": {},
   "outputs": [
    {
     "data": {
      "text/plain": [
       "12"
      ]
     },
     "execution_count": 114,
     "metadata": {},
     "output_type": "execute_result"
    }
   ],
   "source": [
    "getTreeDepth(tree_trained)"
   ]
  },
  {
   "cell_type": "code",
   "execution_count": 115,
   "metadata": {},
   "outputs": [
    {
     "data": {
      "text/plain": [
       "11"
      ]
     },
     "execution_count": 115,
     "metadata": {},
     "output_type": "execute_result"
    }
   ],
   "source": [
    "getDepth(tree_trained['left'])"
   ]
  },
  {
   "cell_type": "code",
   "execution_count": 116,
   "metadata": {},
   "outputs": [
    {
     "data": {
      "text/plain": [
       "10"
      ]
     },
     "execution_count": 116,
     "metadata": {},
     "output_type": "execute_result"
    }
   ],
   "source": [
    "getDepth(tree_trained['right'])"
   ]
  },
  {
   "cell_type": "code",
   "execution_count": null,
   "metadata": {},
   "outputs": [],
   "source": []
  }
 ],
 "metadata": {
  "kernelspec": {
   "display_name": "Python 3",
   "language": "python",
   "name": "python3"
  },
  "language_info": {
   "codemirror_mode": {
    "name": "ipython",
    "version": 3
   },
   "file_extension": ".py",
   "mimetype": "text/x-python",
   "name": "python",
   "nbconvert_exporter": "python",
   "pygments_lexer": "ipython3",
   "version": "3.6.5"
  }
 },
 "nbformat": 4,
 "nbformat_minor": 2
}
